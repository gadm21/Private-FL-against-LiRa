{
 "cells": [
  {
   "cell_type": "code",
   "execution_count": null,
   "metadata": {},
   "outputs": [],
   "source": []
  },
  {
   "attachments": {},
   "cell_type": "markdown",
   "metadata": {},
   "source": [
    "# Inports"
   ]
  },
  {
   "cell_type": "code",
   "execution_count": 1,
   "metadata": {},
   "outputs": [
    {
     "name": "stderr",
     "output_type": "stream",
     "text": [
      "/Users/gadmohamed/miniforge3/envs/fl/lib/python3.9/site-packages/scipy/__init__.py:146: UserWarning: A NumPy version >=1.16.5 and <1.23.0 is required for this version of SciPy (detected version 1.25.0\n",
      "  warnings.warn(f\"A NumPy version >={np_minversion} and <{np_maxversion}\"\n"
     ]
    }
   ],
   "source": [
    "import numpy as np\n",
    "from numpy.random import seed\n",
    "import pandas as pd\n",
    "\n",
    "from absl import app\n",
    "from absl import flags\n",
    "import os \n",
    "from os.path import join\n",
    "import tensorflow as tf\n",
    "from tensorflow.keras import layers\n",
    "from tensorflow.keras.models import load_model\n",
    "\n",
    "from sklearn.model_selection import train_test_split\n",
    "from sklearn.metrics import classification_report\n",
    "\n",
    "from utils import *\n",
    "# from mia.estimators import ShadowModelBundle, AttackModelBundle, prepare_attack_data"
   ]
  },
  {
   "attachments": {},
   "cell_type": "markdown",
   "metadata": {},
   "source": [
    "# Functions\n",
    "\n"
   ]
  },
  {
   "cell_type": "code",
   "execution_count": null,
   "metadata": {},
   "outputs": [],
   "source": [
    "\n",
    "\n"
   ]
  },
  {
   "attachments": {},
   "cell_type": "markdown",
   "metadata": {},
   "source": [
    "# Central performance"
   ]
  },
  {
   "cell_type": "code",
   "execution_count": null,
   "metadata": {},
   "outputs": [],
   "source": [
    "experiment_id = 'algorithm' + '_' + 'central' + '_'\n",
    "experiment_paths = [join(RESULTS_PATH, exp_name) for exp_name in os.listdir(RESULTS_PATH) if experiment_id in exp_name]\n",
    "print(experiment_paths)\n",
    "for exp_path in experiment_paths :\n",
    "    \n",
    "    history = pd.read_csv(join(exp_path, 'centralized.csv'))\n",
    "    central_acc = history['val_accuracy']\n",
    "\n",
    "\n",
    "    plt.plot(central_acc)"
   ]
  },
  {
   "attachments": {},
   "cell_type": "markdown",
   "metadata": {},
   "source": [
    "# Local performance"
   ]
  },
  {
   "cell_type": "code",
   "execution_count": null,
   "metadata": {},
   "outputs": [],
   "source": [
    "experiment_id = 'cifar10' + '_' + 'local' + '_'\n",
    "experiment_paths = [join(RESULTS_PATH, exp_name) for exp_name in os.listdir(RESULTS_PATH) if experiment_id in exp_name]\n",
    "experiment_path = experiment_paths[0]\n",
    "\n",
    "for p in experiment_paths :\n",
    "    print(p)\n",
    "histories = [pd.read_csv(join(experiment_path, 'client_{}.csv'.format(i))) for i in range(len(os.listdir(experiment_path)))]\n",
    "\n",
    "val_accs = [history['val_accuracy'] for history in histories]\n",
    "\n",
    "# local_acc_avg = np.mean(val_accs, axis=0)\n",
    "# plt.plot(local_acc_avg, label='local')\n",
    "for acc in val_accs:\n",
    "    plt.plot(acc)\n",
    "plt.show() \n"
   ]
  },
  {
   "attachments": {},
   "cell_type": "markdown",
   "metadata": {},
   "source": [
    "# Federated Learning performance"
   ]
  },
  {
   "attachments": {},
   "cell_type": "markdown",
   "metadata": {},
   "source": [
    "## FedAvg"
   ]
  },
  {
   "cell_type": "code",
   "execution_count": 4,
   "metadata": {},
   "outputs": [
    {
     "data": {
      "image/png": "[encoded data removed]",
      "text/plain": [
       "<Figure size 640x480 with 1 Axes>"
      ]
     },
     "metadata": {},
     "output_type": "display_data"
    }
   ],
   "source": [
    "\n",
    "experiment_id = 'fedavg'\n",
    "experiment_paths = [join(RESULTS_PATH, exp_name) for exp_name in os.listdir(RESULTS_PATH) if experiment_id in exp_name]\n",
    "\n",
    "\n",
    "\n",
    "for p in experiment_paths :\n",
    "    things = p.split('/')[-1].split('_')\n",
    "    \n",
    "    if not os.path.exists(join(p, 'accuracy.npy')): \n",
    "        continue \n",
    "    \n",
    "    use_dp =  load_json_field(join(p, 'args.json'), 'use_dp')\n",
    "    eps = load_json_field(join(p, 'args.json'), 'dp_epsilon')\n",
    "    alg = load_json_field(join(p, 'args.json'), 'learning_algorithm')\n",
    "    acc = np.load(join(p, 'accuracy.npy'))\n",
    "    plt.plot(acc, label=alg + '_' + str(use_dp) + '_' + str(eps))\n",
    "\n",
    "plt.legend()\n",
    "plt.show()\n"
   ]
  },
  {
   "attachments": {},
   "cell_type": "markdown",
   "metadata": {},
   "source": [
    "## Fedsgd"
   ]
  },
  {
   "cell_type": "code",
   "execution_count": null,
   "metadata": {},
   "outputs": [],
   "source": [
    "\n",
    "experiment_id = 'cifar10' + '_' + 'fedsgd' + '_'\n",
    "experiment_path = [join(RESULTS_PATH, exp_name) for exp_name in os.listdir(RESULTS_PATH) if experiment_id in exp_name][0]\n",
    "print(\"experiment path:\", experiment_path)\n",
    "\n",
    "fedsgd_acc = np.load(join(experiment_path, 'accuracy.npy'))\n",
    "# plot accuracy\n",
    "plt.plot(fedsgd_acc)"
   ]
  },
  {
   "cell_type": "code",
   "execution_count": null,
   "metadata": {},
   "outputs": [],
   "source": [
    "\n",
    "experiment_id = 'cifar10' + '_' + 'fedakd' + '_'\n",
    "experiment_path = [join(RESULTS_PATH, exp_name) for exp_name in os.listdir(RESULTS_PATH) if experiment_id in exp_name][0]\n",
    "print(\"experiment path:\", experiment_path)\n",
    "\n",
    "fedsgd_acc = np.load(join(experiment_path, 'accuracy.npy'))\n",
    "# plot accuracy\n",
    "plt.plot(fedsgd_acc)"
   ]
  },
  {
   "attachments": {},
   "cell_type": "markdown",
   "metadata": {},
   "source": [
    "## Compare performance"
   ]
  },
  {
   "cell_type": "code",
   "execution_count": null,
   "metadata": {},
   "outputs": [],
   "source": [
    "accuracies = [central_acc, local_acc_avg, fedavg_acc, fedsgd_acc]\n",
    "labels = ['central', 'local', 'fedavg', 'fedsgd']\n",
    "\n",
    "for acc, label in zip(accuracies, labels):\n",
    "    plt.plot(acc, label=label)\n",
    "plt.legend()\n",
    "plt.show()"
   ]
  },
  {
   "attachments": {},
   "cell_type": "markdown",
   "metadata": {},
   "source": [
    "## DP relaxations noise vs epsilon"
   ]
  },
  {
   "cell_type": "code",
   "execution_count": null,
   "metadata": {},
   "outputs": [],
   "source": [
    "n = 60_000 \n",
    "bs = 200\n",
    "e = 20 \n",
    "delta = 1e-5\n",
    "dp_types = ['dp', 'adv_cmp', 'rdp'] \n",
    "epsilons_range_1 = np.arange(0.01, 10, 0.1)\n",
    "epsilons_range_2 = np.arange(10, 1000, 5)\n",
    "\n",
    "noise_multipliers = np.zeros((len(dp_types), len(epsilons_range_1) ))\n",
    "for dp_i, dp_type in enumerate(dp_types) : \n",
    "    for eps_i, eps in enumerate(epsilons_range_1) : \n",
    "        ac = DPAccountant(\n",
    "            data_size= n,\n",
    "            batch_size= bs, \n",
    "            epochs = e,\n",
    "            target_delta = delta, \n",
    "            dp_type = dp_type\n",
    "        )\n",
    "        sigma = ac.get_noise_multiplier(target_epsilon=eps)\n",
    "        noise_multipliers[dp_i, eps_i] = sigma\n",
    "\n"
   ]
  },
  {
   "cell_type": "code",
   "execution_count": null,
   "metadata": {},
   "outputs": [],
   "source": [
    "for dp_i, dp_type in enumerate(dp_types) : \n",
    "    plt.plot(epsilons, noise_multipliers[dp_i, :], label=dp_type)\n",
    "plt.legend()"
   ]
  },
  {
   "attachments": {},
   "cell_type": "markdown",
   "metadata": {},
   "source": [
    "## MIA results"
   ]
  },
  {
   "cell_type": "code",
   "execution_count": 14,
   "metadata": {},
   "outputs": [
    {
     "data": {
      "image/png": "[encoded data removed]",
      "text/plain": [
       "<Figure size 640x480 with 1 Axes>"
      ]
     },
     "metadata": {},
     "output_type": "display_data"
    },
    {
     "name": "stdout",
     "output_type": "stream",
     "text": [
      "fpr: [0.     0.     0.     ... 0.9999 0.9999 1.    ]\n",
      "tpr: [0.0000e+00 5.0000e-05 1.5000e-04 ... 9.9995e-01 1.0000e+00 1.0000e+00]\n",
      "thresholds: [1.6669037  0.6669037  0.66685647 ... 0.60531336 0.605309   0.6052902 ]\n"
     ]
    }
   ],
   "source": [
    "id = 12\n",
    "exp_id = 'exp_{}'.format(id)\n",
    "EXP_PATH = join(DATA_PATH, exp_id)\n",
    "attack_results_file = join(EXP_PATH, 'attack_results', 'attack_results.npy')\n",
    "attack_results = np.load(attack_results_file, allow_pickle= True).item()  \n",
    "\n",
    "fpr, tpr, thresholds = attack_results['fpr'], attack_results['tpr'], attack_results['thresholds']\n",
    "plt.plot(fpr, tpr)\n",
    "plt.xlabel('False Positive Rate')\n",
    "plt.ylabel('True Positive Rate')\n",
    "plt.title('ROC Curve')\n",
    "plt.show()\n",
    "\n",
    "print(\"fpr:\", fpr)\n",
    "print(\"tpr:\", tpr)\n",
    "print(\"thresholds:\", thresholds)"
   ]
  }
 ],
 "metadata": {
  "kernelspec": {
   "display_name": "Python 3",
   "language": "python",
   "name": "python3"
  },
  "language_info": {
   "codemirror_mode": {
    "name": "ipython",
    "version": 3
   },
   "file_extension": ".py",
   "mimetype": "text/x-python",
   "name": "python",
   "nbconvert_exporter": "python",
   "pygments_lexer": "ipython3",
   "version": "3.9.13"
  },
  "orig_nbformat": 4
 },
 "nbformat": 4,
 "nbformat_minor": 2
}
